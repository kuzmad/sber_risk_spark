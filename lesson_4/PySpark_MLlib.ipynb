{
 "cells": [
  {
   "cell_type": "code",
   "execution_count": null,
   "metadata": {
    "colab": {
     "base_uri": "https://localhost:8080/"
    },
    "id": "aAfBJ5OQhcTu",
    "outputId": "e7e969ef-a910-4d70-a30d-c0ebd6d0f198"
   },
   "outputs": [],
   "source": [
    "!pip install pyspark findspark"
   ]
  },
  {
   "cell_type": "code",
   "execution_count": null,
   "metadata": {
    "id": "BNdat6SPhiEH"
   },
   "outputs": [],
   "source": [
    "from pyspark.sql import SparkSession\n",
    "from pyspark import SparkContext, SparkConf\n",
    "\n",
    "conf = SparkConf().set('spark.ui.port', '4050').set('spark.serializer', 'org.apache.spark.serializer.KryoSerializer')\\\n",
    "                  .set('spark.dynamicAllocation.enabled', 'true')\\\n",
    "                  .set('spark.shuffle.service.enabled', 'true') #трекер, чтобы возвращать ресурсы\n",
    "sc = SparkContext(conf=conf)\n",
    "spark = SparkSession.builder.master('local[*]').getOrCreate()"
   ]
  },
  {
   "cell_type": "markdown",
   "metadata": {
    "id": "FZORGQJAkELA"
   },
   "source": [
    "Анализировать будет датасет отсюда https://www.kaggle.com/shelvigarg/credit-card-buyers\n",
    "\n",
    "Definition\n",
    "\n",
    "ID - Unique Identifier for a row\n",
    "\n",
    "Gender - Gender of the Customer\n",
    "\n",
    "Age - Age of the Customer (in Years)\n",
    "\n",
    "Region_Code - Code of the Region for the customers\n",
    "\n",
    "Occupation - Occupation Type for the customer\n",
    "\n",
    "Channel_Code - Acquisition Channel Code for the Customer (Encoded)\n",
    "\n",
    "Vintage - Vintage for the Customer (In Months)\n",
    "\n",
    "Credit_Product - If the Customer has any active credit product (Home loan Personal loan, Credit Card etc.)\n",
    "\n",
    "AvgAccountBalance - Average Account Balance for the Customer in last 12 Months\n",
    "\n",
    "Is_Active - If the Customer is Active in last 3 Months"
   ]
  },
  {
   "cell_type": "markdown",
   "metadata": {
    "id": "YIgE50bSlRBK"
   },
   "source": [
    "Загрузим данные и посмотрим, что там внутри"
   ]
  },
  {
   "cell_type": "code",
   "execution_count": null,
   "metadata": {
    "id": "tsUQHB1FjhPO"
   },
   "outputs": [],
   "source": [
    "data = spark.read.csv('credit_card_data.csv', header=True, inferSchema=True)"
   ]
  },
  {
   "cell_type": "code",
   "execution_count": null,
   "metadata": {
    "colab": {
     "base_uri": "https://localhost:8080/"
    },
    "id": "YbvoQA6clcY-",
    "outputId": "05312b42-f87b-465c-dce1-794043a577b2"
   },
   "outputs": [],
   "source": [
    "data.printSchema()"
   ]
  },
  {
   "cell_type": "code",
   "execution_count": null,
   "metadata": {
    "colab": {
     "base_uri": "https://localhost:8080/"
    },
    "id": "4_sCeIsAlPoS",
    "outputId": "0a143318-853f-4894-c075-96a6741ce94e"
   },
   "outputs": [],
   "source": [
    "data.show()"
   ]
  },
  {
   "cell_type": "markdown",
   "metadata": {
    "id": "KXN0MI0xlx3N"
   },
   "source": [
    "Посмотрим различные базовые вещи"
   ]
  },
  {
   "cell_type": "code",
   "execution_count": null,
   "metadata": {
    "id": "j3wkDh42mATz"
   },
   "outputs": [],
   "source": [
    "from pyspark.sql.functions import col,isnan, when, count"
   ]
  },
  {
   "cell_type": "code",
   "execution_count": null,
   "metadata": {
    "colab": {
     "base_uri": "https://localhost:8080/"
    },
    "id": "YeJKCEzbmErU",
    "outputId": "5380d6bf-503b-49e8-9dbf-168c777dc7be"
   },
   "outputs": [],
   "source": [
    "data.select([count(when(isnan(c) | col(c).isNull(), c)).alias(c) for c in data.columns]).show()"
   ]
  },
  {
   "cell_type": "markdown",
   "metadata": {
    "id": "Dika1L3qmLuF"
   },
   "source": [
    "Пропуски только в кредитном продукте, логично заметь на тип, что кредита нет"
   ]
  },
  {
   "cell_type": "code",
   "execution_count": null,
   "metadata": {
    "colab": {
     "base_uri": "https://localhost:8080/"
    },
    "id": "w20frxn8m3Nw",
    "outputId": "df1135bb-2b42-4aea-8d24-b59fa2f0b973"
   },
   "outputs": [],
   "source": [
    "data.select(col('Credit_Product')).groupBy('Credit_Product').count().show()"
   ]
  },
  {
   "cell_type": "code",
   "execution_count": null,
   "metadata": {
    "id": "PhfHAQs8mKmn"
   },
   "outputs": [],
   "source": [
    "data = data.fillna({'Credit_Product': 'No'})"
   ]
  },
  {
   "cell_type": "markdown",
   "metadata": {
    "id": "b6fVb5RAnQ2u"
   },
   "source": [
    "Проверим"
   ]
  },
  {
   "cell_type": "code",
   "execution_count": null,
   "metadata": {
    "colab": {
     "base_uri": "https://localhost:8080/"
    },
    "id": "q8T1WGqSnSR-",
    "outputId": "2ad1250e-e0ef-46f7-c858-9bd7c10f58cd"
   },
   "outputs": [],
   "source": [
    "data.select(col('Credit_Product')).groupBy('Credit_Product').count().show()"
   ]
  },
  {
   "cell_type": "markdown",
   "metadata": {
    "id": "KtDur_eFnU9M"
   },
   "source": [
    "Посмотри на данные с точки зрения дисбаланса классов"
   ]
  },
  {
   "cell_type": "code",
   "execution_count": null,
   "metadata": {
    "colab": {
     "base_uri": "https://localhost:8080/"
    },
    "id": "PtIMjIMbnisg",
    "outputId": "66266ab9-a2b6-4bcb-80db-734256f7b7f0"
   },
   "outputs": [],
   "source": [
    "data.count()"
   ]
  },
  {
   "cell_type": "code",
   "execution_count": null,
   "metadata": {
    "id": "qyX_QHI9oKfP"
   },
   "outputs": [],
   "source": [
    "import pyspark.sql.functions as F"
   ]
  },
  {
   "cell_type": "code",
   "execution_count": null,
   "metadata": {
    "colab": {
     "base_uri": "https://localhost:8080/"
    },
    "id": "ZFJ2i3UklxJH",
    "outputId": "5f76831f-e5cc-4256-a266-72e9ddfcb342"
   },
   "outputs": [],
   "source": [
    "data.select(col('Is_Lead'))\\\n",
    "    .groupBy('Is_Lead')\\\n",
    "    .count()\\\n",
    "    .withColumn('count', F.round(col('count') / data.count(), 2))\\\n",
    "    .show()"
   ]
  },
  {
   "cell_type": "markdown",
   "metadata": {
    "id": "8C4-7JsCotMW"
   },
   "source": [
    "Ладно, достаточно, мы тут сейчас говорим про MLlib, всякие анализы - тема прошлого семинара"
   ]
  },
  {
   "cell_type": "markdown",
   "metadata": {
    "id": "hFW-5rVezUzj"
   },
   "source": [
    "**Некоторые преобразования данных**"
   ]
  },
  {
   "cell_type": "markdown",
   "metadata": {
    "id": "DIVOhaAJ2MYW"
   },
   "source": [
    "Начнем с простой обработки категориальных переменных"
   ]
  },
  {
   "cell_type": "code",
   "execution_count": null,
   "metadata": {
    "id": "Ol8QdvOIza7d"
   },
   "outputs": [],
   "source": [
    "from pyspark.ml.feature import StringIndexer, IndexToString, OneHotEncoder"
   ]
  },
  {
   "cell_type": "code",
   "execution_count": null,
   "metadata": {
    "colab": {
     "base_uri": "https://localhost:8080/"
    },
    "id": "VPOBb0j_zrmL",
    "outputId": "bbe060cd-1216-4b23-b8f5-a8505ffbc2f9"
   },
   "outputs": [],
   "source": [
    "gender_indexer = StringIndexer(inputCol=\"Gender\", outputCol=\"GenderIndex\")\n",
    "gender_indexer = gender_indexer.fit(data)\n",
    "data = gender_indexer.transform(data)\n",
    "\n",
    "data.show()"
   ]
  },
  {
   "cell_type": "code",
   "execution_count": null,
   "metadata": {
    "colab": {
     "base_uri": "https://localhost:8080/"
    },
    "id": "ZAW5y21P0y7e",
    "outputId": "9a9e5d35-e33c-4575-c751-4784c5bdfbf3"
   },
   "outputs": [],
   "source": [
    "gender_indexer.labels"
   ]
  },
  {
   "cell_type": "markdown",
   "metadata": {
    "id": "EwrZceE71Xwk"
   },
   "source": [
    "Обратная трансформация доступна через метод"
   ]
  },
  {
   "cell_type": "code",
   "execution_count": null,
   "metadata": {
    "colab": {
     "base_uri": "https://localhost:8080/"
    },
    "id": "nWclZb5s08ay",
    "outputId": "51fd9730-f88d-43f3-f32d-0f75b5214157"
   },
   "outputs": [],
   "source": [
    "converter = IndexToString(inputCol=\"GenderIndex\", outputCol=\"originalGender\")\n",
    "data = converter.transform(data)\n",
    "data.show()"
   ]
  },
  {
   "cell_type": "markdown",
   "metadata": {
    "id": "2_xa6Egj10ts"
   },
   "source": [
    "Давайте аналогично поступим с каналом продаж и типом занятости"
   ]
  },
  {
   "cell_type": "code",
   "execution_count": null,
   "metadata": {
    "colab": {
     "base_uri": "https://localhost:8080/"
    },
    "id": "E15ddrq80S3V",
    "outputId": "027c6188-2f8c-41d3-dcec-43526086f588"
   },
   "outputs": [],
   "source": [
    "occupation_indexer = StringIndexer(inputCol=\"Occupation\", outputCol=\"OccupationIndex\")\n",
    "occupation_indexer = occupation_indexer.fit(data)\n",
    "data = occupation_indexer.transform(data)\n",
    "\n",
    "channel_indexer = StringIndexer(inputCol=\"Channel_Code\", outputCol=\"ChannelIndex\")\n",
    "channel_indexer = channel_indexer.fit(data)\n",
    "data = channel_indexer.transform(data)\n",
    "\n",
    "data.show()"
   ]
  },
  {
   "cell_type": "code",
   "execution_count": null,
   "metadata": {
    "colab": {
     "base_uri": "https://localhost:8080/"
    },
    "id": "n9bcgggI2xqK",
    "outputId": "39f1ac90-e245-4d75-d396-11057ac6ab33"
   },
   "outputs": [],
   "source": [
    "print(f'Occupation len = {len(occupation_indexer.labels)}, Channel_code len = {len(channel_indexer.labels)}')"
   ]
  },
  {
   "cell_type": "markdown",
   "metadata": {
    "id": "vqftb6C43Fsw"
   },
   "source": [
    "Тут по 4 категории, что самое простое, что приходит в голову? Правильно - OHE"
   ]
  },
  {
   "cell_type": "code",
   "execution_count": null,
   "metadata": {
    "colab": {
     "base_uri": "https://localhost:8080/"
    },
    "id": "VCeoucMX3NpG",
    "outputId": "a121de69-95ae-4838-b603-e862ffed2408"
   },
   "outputs": [],
   "source": [
    "ohe_encoder = OneHotEncoder(inputCols=[\"OccupationIndex\", \"ChannelIndex\"],\n",
    "                        outputCols=[\"OccupationVector\", \"ChannelVec\"])\n",
    "ohe_encoder = ohe_encoder.fit(data)\n",
    "data = ohe_encoder.transform(data)\n",
    "\n",
    "data.show()"
   ]
  },
  {
   "cell_type": "code",
   "execution_count": null,
   "metadata": {
    "colab": {
     "base_uri": "https://localhost:8080/"
    },
    "id": "v994SMld4PeY",
    "outputId": "6ea9ea55-e943-49c5-f96c-97e055a7ae95"
   },
   "outputs": [],
   "source": [
    "ohe_encoder.categorySizes"
   ]
  },
  {
   "cell_type": "markdown",
   "metadata": {
    "id": "XZgkq6G05PSh"
   },
   "source": [
    "Странный формат, не правда ли? Все из-за того, что тут у нас SparseVector\n",
    "\n",
    " На 4 категории нужен вектор размерности 3, а дальше храним позицию и 1 там, где нужная категория"
   ]
  },
  {
   "cell_type": "code",
   "execution_count": null,
   "metadata": {
    "colab": {
     "base_uri": "https://localhost:8080/"
    },
    "id": "U0WwEjcR40px",
    "outputId": "ffe39d49-6d24-4324-d360-f007c88466cb"
   },
   "outputs": [],
   "source": [
    "data.select(col('OccupationVector')).head()"
   ]
  },
  {
   "cell_type": "markdown",
   "metadata": {
    "id": "Q5A4TwCYyl9G"
   },
   "source": [
    "Теперь все надо собрать в одну структуру, чтобы можно было анализировать данные и строить модели"
   ]
  },
  {
   "cell_type": "code",
   "execution_count": null,
   "metadata": {
    "id": "FvGBOfFovMQs"
   },
   "outputs": [],
   "source": [
    "from pyspark.ml.feature import VectorAssembler"
   ]
  },
  {
   "cell_type": "code",
   "execution_count": null,
   "metadata": {
    "colab": {
     "base_uri": "https://localhost:8080/"
    },
    "id": "U2QozLTxxe6k",
    "outputId": "c8d96dbf-03de-4a2f-d0d2-60ab586dba5c"
   },
   "outputs": [],
   "source": [
    "data.show(5)"
   ]
  },
  {
   "cell_type": "code",
   "execution_count": null,
   "metadata": {
    "id": "-d3u3pXZwllv"
   },
   "outputs": [],
   "source": [
    "feature_columns = [\n",
    "                   'Age',\n",
    "                   'Vintage',\n",
    "                   'Avg_Account_Balance',\n",
    "                   'GenderIndex',\n",
    "                   'OccupationVector',\n",
    "                   'ChannelVec'                 \n",
    "]"
   ]
  },
  {
   "cell_type": "code",
   "execution_count": null,
   "metadata": {
    "id": "w8B6wK5qvPI4"
   },
   "outputs": [],
   "source": [
    "df_va = VectorAssembler(inputCols = feature_columns, outputCol = 'features')\n",
    "data = df_va.transform(data)"
   ]
  },
  {
   "cell_type": "code",
   "execution_count": null,
   "metadata": {
    "colab": {
     "base_uri": "https://localhost:8080/"
    },
    "id": "IVIiU4qNzl7I",
    "outputId": "d1f55f26-7da7-4e3e-beda-b87f83c9b5e4"
   },
   "outputs": [],
   "source": [
    "data.printSchema()"
   ]
  },
  {
   "cell_type": "code",
   "execution_count": null,
   "metadata": {
    "colab": {
     "base_uri": "https://localhost:8080/"
    },
    "id": "iaXUddG1zp_X",
    "outputId": "e992ad31-c115-4f09-fd35-bcf281660b82"
   },
   "outputs": [],
   "source": [
    "data.show()"
   ]
  },
  {
   "cell_type": "markdown",
   "metadata": {
    "id": "rCWpLx31zh67"
   },
   "source": [
    "В полученном features можно автоматичеки проанализировать все переменные и если у кого-то уникальных значений меньше заданного вами порога, то они автоматичсеки переведутся в индексы при помощи pyspark.ml.feature import VectorIndexer"
   ]
  },
  {
   "cell_type": "markdown",
   "metadata": {
    "id": "sDUyHq-CwHRw"
   },
   "source": [
    "**Статистика**"
   ]
  },
  {
   "cell_type": "markdown",
   "metadata": {
    "id": "AJdSxnSRwRKv"
   },
   "source": [
    "В ml pyspark есть некоторые статистические методы, которые можно использовать для анализа\n",
    "\n",
    "Корреляция"
   ]
  },
  {
   "cell_type": "code",
   "execution_count": null,
   "metadata": {
    "id": "bLh7XX3GpCtZ"
   },
   "outputs": [],
   "source": [
    "from pyspark.ml.stat import Correlation"
   ]
  },
  {
   "cell_type": "code",
   "execution_count": null,
   "metadata": {
    "colab": {
     "base_uri": "https://localhost:8080/"
    },
    "id": "yopY40AAwzhq",
    "outputId": "55adae33-17c2-43a3-d2b3-28ad2d7711f5"
   },
   "outputs": [],
   "source": [
    "corr = Correlation.corr(data, 'features', method='pearson').collect()[0][0]"
   ]
  },
  {
   "cell_type": "code",
   "execution_count": null,
   "metadata": {
    "colab": {
     "base_uri": "https://localhost:8080/"
    },
    "id": "b5NJYBqi0o4J",
    "outputId": "159247e6-31ca-40ac-d17d-ee13e2bee447"
   },
   "outputs": [],
   "source": [
    "corr"
   ]
  },
  {
   "cell_type": "code",
   "execution_count": null,
   "metadata": {
    "colab": {
     "base_uri": "https://localhost:8080/"
    },
    "id": "kdYSH7Hg1Fwm",
    "outputId": "b0c09b6d-1521-455e-e713-00735814462b"
   },
   "outputs": [],
   "source": [
    "corr.toArray()"
   ]
  },
  {
   "cell_type": "markdown",
   "metadata": {
    "id": "UaW05KoO1QZ9"
   },
   "source": [
    "Можно вычислить корреляцию спирмена"
   ]
  },
  {
   "cell_type": "code",
   "execution_count": null,
   "metadata": {
    "colab": {
     "base_uri": "https://localhost:8080/"
    },
    "id": "BYUenSBo1P1D",
    "outputId": "e59acca9-04d3-46c4-9b0b-7d00a03308c1"
   },
   "outputs": [],
   "source": [
    "corr = Correlation.corr(data, 'features', method='spearman').collect()[0][0]\n",
    "corr.toArray()"
   ]
  },
  {
   "cell_type": "markdown",
   "metadata": {
    "id": "y_5PVUlY2F5Y"
   },
   "source": [
    "Можно использовать хи-квадрат тест для оценки независимости каждой переменной в features относительно целевого признака, но этот тест для категориальных переменных, поэтому для примера на одной фиче"
   ]
  },
  {
   "cell_type": "code",
   "execution_count": null,
   "metadata": {
    "id": "qKDaZAqo2qcx"
   },
   "outputs": [],
   "source": [
    "from pyspark.ml.stat import ChiSquareTest, KolmogorovSmirnovTest, Summarizer"
   ]
  },
  {
   "cell_type": "code",
   "execution_count": null,
   "metadata": {
    "colab": {
     "base_uri": "https://localhost:8080/"
    },
    "id": "NKv6rl6L2uD3",
    "outputId": "a507f56e-551a-4552-ebc1-6b86bc5f56a4"
   },
   "outputs": [],
   "source": [
    "r = ChiSquareTest.test(data, \"OccupationVector\", \"Is_Lead\")"
   ]
  },
  {
   "cell_type": "code",
   "execution_count": null,
   "metadata": {
    "colab": {
     "base_uri": "https://localhost:8080/"
    },
    "id": "zs8p9cYz232n",
    "outputId": "bd20e3a5-29ce-44a8-e05d-f8c1a88fc29c"
   },
   "outputs": [],
   "source": [
    "r.show()"
   ]
  },
  {
   "cell_type": "markdown",
   "metadata": {
    "id": "L5bWlEXS48xD"
   },
   "source": [
    "KS-тест"
   ]
  },
  {
   "cell_type": "code",
   "execution_count": null,
   "metadata": {
    "colab": {
     "base_uri": "https://localhost:8080/"
    },
    "id": "AQxAgsUx6NVR",
    "outputId": "3b63c94c-f476-4ffb-8c88-56feb124c6f8"
   },
   "outputs": [],
   "source": [
    "data.select(\n",
    "    F.mean(col('Age')).alias('mean_Age'),\n",
    "    F.stddev(col('Age')).alias('std_Age')\n",
    ").collect()"
   ]
  },
  {
   "cell_type": "code",
   "execution_count": null,
   "metadata": {
    "colab": {
     "base_uri": "https://localhost:8080/"
    },
    "id": "IoppdTHa46tZ",
    "outputId": "cfb0aefe-7315-410f-a911-a1fb0f63057b"
   },
   "outputs": [],
   "source": [
    "ks = KolmogorovSmirnovTest.test(data, 'Age', 'norm', 44, 15).first()"
   ]
  },
  {
   "cell_type": "code",
   "execution_count": null,
   "metadata": {
    "colab": {
     "base_uri": "https://localhost:8080/"
    },
    "id": "y_f8r3Lg7KW5",
    "outputId": "0893e2a2-245d-4ed6-9024-5ed4395cd464"
   },
   "outputs": [],
   "source": [
    "ks"
   ]
  },
  {
   "cell_type": "markdown",
   "metadata": {
    "id": "8brAdeEf7oxC"
   },
   "source": [
    "Еще можно посчитать разные статистики"
   ]
  },
  {
   "cell_type": "code",
   "execution_count": null,
   "metadata": {
    "colab": {
     "base_uri": "https://localhost:8080/"
    },
    "id": "yYYVSXeO7s5s",
    "outputId": "b0b72ca4-13f2-4ff9-e2cb-9b91e8f53bfa"
   },
   "outputs": [],
   "source": [
    "summarizer = Summarizer.metrics(\"mean\", \"count\")\n",
    "data.select(summarizer.summary(data.features)).show(truncate=False)"
   ]
  },
  {
   "cell_type": "markdown",
   "metadata": {
    "id": "YKcAS-ZySbmv"
   },
   "source": [
    "**Работа с фичами**"
   ]
  },
  {
   "cell_type": "markdown",
   "metadata": {
    "id": "gb2La8IGSfy2"
   },
   "source": [
    "Квантизация"
   ]
  },
  {
   "cell_type": "code",
   "execution_count": null,
   "metadata": {
    "id": "UU52as0DSfM3"
   },
   "outputs": [],
   "source": [
    "from pyspark.ml.feature import QuantileDiscretizer"
   ]
  },
  {
   "cell_type": "markdown",
   "metadata": {
    "id": "JwLM1tzZTCpM"
   },
   "source": [
    "Обучаем"
   ]
  },
  {
   "cell_type": "code",
   "execution_count": null,
   "metadata": {
    "id": "eLEqod7ASm_p"
   },
   "outputs": [],
   "source": [
    "discretizer = QuantileDiscretizer(numBuckets=5, inputCol=\"Age\", outputCol=\"Age_quant\")\n",
    "discretizer = discretizer.fit(data)"
   ]
  },
  {
   "cell_type": "code",
   "execution_count": null,
   "metadata": {
    "id": "DJEUHC2CTE1Z"
   },
   "outputs": [],
   "source": [
    "data = discretizer.transform(data)"
   ]
  },
  {
   "cell_type": "code",
   "execution_count": null,
   "metadata": {
    "colab": {
     "base_uri": "https://localhost:8080/"
    },
    "id": "BzA9F_8wUZzD",
    "outputId": "62268aac-0e56-4b57-d7ba-9ddf89032207"
   },
   "outputs": [],
   "source": [
    "data.select('Age', 'Age_quant')\\\n",
    "    .groupby('Age_quant').agg(\n",
    "        F.min('Age').alias('min_age'),\n",
    "        F.max('Age').alias('max_age'),\n",
    "        F.count('Age').alias('count')\n",
    "    )\\\n",
    "    .orderBy('Age_quant')\\\n",
    "    .show(5)"
   ]
  },
  {
   "cell_type": "markdown",
   "metadata": {
    "id": "4MCJmjnVWnYo"
   },
   "source": [
    "Заполнить пропуски можно через Imputer\n",
    "\n",
    "Заполнять пропуски умеет только для числовых переменных, поэтому попробуем на игрушечном примере\n",
    "\n"
   ]
  },
  {
   "cell_type": "code",
   "execution_count": null,
   "metadata": {
    "id": "tQLJUwVnXHGg"
   },
   "outputs": [],
   "source": [
    "from pyspark.ml.feature import Imputer"
   ]
  },
  {
   "cell_type": "code",
   "execution_count": null,
   "metadata": {
    "colab": {
     "base_uri": "https://localhost:8080/"
    },
    "id": "tnLtSJgXWrnK",
    "outputId": "8dab73a1-b985-4b5b-f908-ecf2095937ff"
   },
   "outputs": [],
   "source": [
    "df = spark.createDataFrame([\n",
    "    (1.0, float(\"nan\")),\n",
    "    (2.0, float(\"nan\")),\n",
    "    (float(\"nan\"), 3.0),\n",
    "    (4.0, 4.0),\n",
    "    (5.0, 5.0)\n",
    "], [\"a\", \"b\"])\n",
    "\n",
    "#стратегия может быть 'mean', 'median', 'mode'\n",
    "#через setMissingValue(0.0) можно сказать, что пропуски - это 0\n",
    "imputer = Imputer(inputCols=[\"a\", \"b\"], outputCols=[\"out_a\", \"out_b\"], strategy='mean')\n",
    "imputer = imputer.fit(df)\n",
    "imputer.transform(df).show()"
   ]
  },
  {
   "cell_type": "markdown",
   "metadata": {
    "id": "ZhnOCVaJN4TE"
   },
   "source": [
    "**Pipeline**\n",
    "\n",
    "Как и в scikit-learn можно создавать пайплайны обработки данных"
   ]
  },
  {
   "cell_type": "markdown",
   "metadata": {
    "id": "iA70rsPgYIPb"
   },
   "source": [
    "Мы много делали преобразований, давайте соберем все в 1 пайплайн"
   ]
  },
  {
   "cell_type": "code",
   "execution_count": null,
   "metadata": {
    "id": "EQSjY7OGNuV5"
   },
   "outputs": [],
   "source": [
    "from pyspark.ml import Pipeline"
   ]
  },
  {
   "cell_type": "code",
   "execution_count": null,
   "metadata": {
    "id": "2F3RrpODOSdK"
   },
   "outputs": [],
   "source": [
    "#string в индесы\n",
    "gender_indexer = StringIndexer(inputCol=\"Gender\", outputCol=\"GenderIndex\")\n",
    "occupation_indexer = StringIndexer(inputCol=\"Occupation\", outputCol=\"OccupationIndex\")\n",
    "channel_indexer = StringIndexer(inputCol=\"Channel_Code\", outputCol=\"ChannelIndex\")\n",
    "\n",
    "#OHE\n",
    "ohe_encoder = OneHotEncoder(inputCols=[\"OccupationIndex\", \"ChannelIndex\"],\n",
    "                        outputCols=[\"OccupationVector\", \"ChannelVec\"])\n",
    "\n",
    "#квантизация\n",
    "discretizer = QuantileDiscretizer(numBuckets=5, inputCol=\"Age\", outputCol=\"Age_quant\")\n",
    "\n",
    "#собираем все в вектор\n",
    "feature_columns = [\n",
    "                   'Age',\n",
    "                   'Vintage',\n",
    "                   'Avg_Account_Balance',\n",
    "                   'GenderIndex',\n",
    "                   'OccupationVector',\n",
    "                   'ChannelVec',\n",
    "                   'Age_quant'                 \n",
    "]\n",
    "vector_assembler = VectorAssembler(inputCols = feature_columns, outputCol = 'features')"
   ]
  },
  {
   "cell_type": "markdown",
   "metadata": {
    "id": "XFC0GDkKPOaf"
   },
   "source": [
    "собираем все в пайплайн"
   ]
  },
  {
   "cell_type": "code",
   "execution_count": null,
   "metadata": {
    "id": "01A49vw-PBUX"
   },
   "outputs": [],
   "source": [
    "pipeline = Pipeline(stages=[\n",
    "                           gender_indexer,\n",
    "                           occupation_indexer,\n",
    "                           channel_indexer,\n",
    "                           ohe_encoder,\n",
    "                           discretizer,\n",
    "                           vector_assembler,\n",
    "])"
   ]
  },
  {
   "cell_type": "markdown",
   "metadata": {
    "id": "QsvoIzWBPoL8"
   },
   "source": [
    "Давайте заново загрузим данные и сделаем трансформацию\n",
    "\n",
    "---\n",
    "\n"
   ]
  },
  {
   "cell_type": "code",
   "execution_count": null,
   "metadata": {
    "id": "5w32Zu8CPnjW"
   },
   "outputs": [],
   "source": [
    "data = spark.read.csv('credit_card_data.csv', header=True, inferSchema=True)\n",
    "data = data.fillna({'Credit_Product': 'No'})\n",
    "pipeline = pipeline.fit(data)"
   ]
  },
  {
   "cell_type": "code",
   "execution_count": null,
   "metadata": {
    "id": "sZL7qvxlQMQF"
   },
   "outputs": [],
   "source": [
    "transformed_data = pipeline.transform(data)"
   ]
  },
  {
   "cell_type": "code",
   "execution_count": null,
   "metadata": {
    "colab": {
     "base_uri": "https://localhost:8080/"
    },
    "id": "Q2FxS5ahYcew",
    "outputId": "d68a12f2-4231-43a0-864d-5817d59fca26"
   },
   "outputs": [],
   "source": [
    "transformed_data.show()"
   ]
  },
  {
   "cell_type": "code",
   "execution_count": null,
   "metadata": {
    "colab": {
     "base_uri": "https://localhost:8080/"
    },
    "id": "wAxYmxspQRtg",
    "outputId": "9ef0878b-6807-4a9e-b305-c52d8ac1f424"
   },
   "outputs": [],
   "source": [
    "transformed_data.select('Is_Lead', 'features').show(5)"
   ]
  },
  {
   "cell_type": "markdown",
   "metadata": {
    "id": "fQ3Hd-9zZfqS"
   },
   "source": [
    "**Модельки**\n",
    "\n",
    "Пора нам уже что-то обучить, начнем с логрега"
   ]
  },
  {
   "cell_type": "code",
   "execution_count": null,
   "metadata": {
    "id": "yPjuQR3nZmNP"
   },
   "outputs": [],
   "source": [
    "from pyspark.ml.classification import LogisticRegression, LogisticRegressionModel"
   ]
  },
  {
   "cell_type": "code",
   "execution_count": null,
   "metadata": {
    "id": "1E6G5HuFZ11p"
   },
   "outputs": [],
   "source": [
    "lr = LogisticRegression(featuresCol='features', labelCol='Is_Lead', predictionCol='prediction',\n",
    "                        maxIter=100, probabilityCol='proba')\n",
    "\n",
    "lr = lr.fit(transformed_data)"
   ]
  },
  {
   "cell_type": "markdown",
   "metadata": {
    "id": "q-rzIwuDws9m"
   },
   "source": [
    "Сохраним"
   ]
  },
  {
   "cell_type": "code",
   "execution_count": null,
   "metadata": {
    "id": "B_7j3DSkwfzv"
   },
   "outputs": [],
   "source": [
    "lr.save('logreg_model')"
   ]
  },
  {
   "cell_type": "markdown",
   "metadata": {
    "id": "UNXljB3Bw9ui"
   },
   "source": [
    "Загрузка"
   ]
  },
  {
   "cell_type": "code",
   "execution_count": null,
   "metadata": {
    "id": "DNPT1BVAwwdj"
   },
   "outputs": [],
   "source": [
    "lr2 = LogisticRegressionModel.load('logreg_model')"
   ]
  },
  {
   "cell_type": "markdown",
   "metadata": {
    "id": "kKQWHwILb9ZG"
   },
   "source": [
    "Коэффициенты и метрики"
   ]
  },
  {
   "cell_type": "code",
   "execution_count": null,
   "metadata": {
    "colab": {
     "base_uri": "https://localhost:8080/"
    },
    "id": "_0UWzsFwav6u",
    "outputId": "a81dfa5e-0aa7-4901-bed3-0a92e7d272cd"
   },
   "outputs": [],
   "source": [
    "print(\"Coefficients: \" + str(lr.coefficients))\n",
    "print(\"Intercept: \" + str(lr.intercept))"
   ]
  },
  {
   "cell_type": "code",
   "execution_count": null,
   "metadata": {
    "colab": {
     "base_uri": "https://localhost:8080/"
    },
    "id": "Y7G91sTrxQbs",
    "outputId": "20b65b16-e183-4119-fc00-0dc1bfd52da4"
   },
   "outputs": [],
   "source": [
    "print(\"Coefficients: \" + str(lr2.coefficients))\n",
    "print(\"Intercept: \" + str(lr2.intercept))"
   ]
  },
  {
   "cell_type": "code",
   "execution_count": null,
   "metadata": {
    "colab": {
     "base_uri": "https://localhost:8080/"
    },
    "id": "K7gmjDu4blD1",
    "outputId": "bcd7d8f2-62da-4184-883c-81a7e0fc5943"
   },
   "outputs": [],
   "source": [
    "print(f'ROC_AUC = {lr.summary.areaUnderROC}')"
   ]
  },
  {
   "cell_type": "code",
   "execution_count": null,
   "metadata": {
    "colab": {
     "base_uri": "https://localhost:8080/"
    },
    "id": "SeL7Hy0Wa7xC",
    "outputId": "73c4716c-e92a-4682-b5d2-c51b353b952c"
   },
   "outputs": [],
   "source": [
    "lr.summary.recallByLabel"
   ]
  },
  {
   "cell_type": "code",
   "execution_count": null,
   "metadata": {
    "colab": {
     "base_uri": "https://localhost:8080/"
    },
    "id": "supy8ehjdDkz",
    "outputId": "43f57a19-6e52-4f8b-9399-5c146cdc9021"
   },
   "outputs": [],
   "source": [
    "lr.params"
   ]
  },
  {
   "cell_type": "code",
   "execution_count": null,
   "metadata": {
    "colab": {
     "base_uri": "https://localhost:8080/"
    },
    "id": "qt98_rd6cGqJ",
    "outputId": "29097d5f-39d6-4c24-e747-fc8e428ae6a2"
   },
   "outputs": [],
   "source": [
    "lr.transform(transformed_data.select('Is_Lead', 'features')).show()"
   ]
  },
  {
   "cell_type": "markdown",
   "metadata": {
    "id": "Ipn37OYZfe_8"
   },
   "source": [
    "**Подбор параметров**\n",
    "\n",
    "Тут нет всяких hyperopt, optuna...есть стандартная кросс-валидация и поиск по сетке"
   ]
  },
  {
   "cell_type": "code",
   "execution_count": null,
   "metadata": {
    "id": "Xm9NGSM-fwSZ"
   },
   "outputs": [],
   "source": [
    "from pyspark.ml.tuning import ParamGridBuilder, TrainValidationSplit, CrossValidator\n",
    "from pyspark.ml.evaluation import BinaryClassificationEvaluator"
   ]
  },
  {
   "cell_type": "markdown",
   "metadata": {
    "id": "akrk6N6HgWFa"
   },
   "source": [
    "Для этого соберем все в пайплайн. Можно было \"вложить\" старый пайплайн в новый, но соберем все с самого начала"
   ]
  },
  {
   "cell_type": "code",
   "execution_count": null,
   "metadata": {
    "id": "A4SVMvaQgYfk"
   },
   "outputs": [],
   "source": [
    "#string в индесы\n",
    "gender_indexer = StringIndexer(inputCol=\"Gender\", outputCol=\"GenderIndex\")\n",
    "occupation_indexer = StringIndexer(inputCol=\"Occupation\", outputCol=\"OccupationIndex\")\n",
    "channel_indexer = StringIndexer(inputCol=\"Channel_Code\", outputCol=\"ChannelIndex\")\n",
    "\n",
    "#OHE\n",
    "ohe_encoder = OneHotEncoder(inputCols=[\"OccupationIndex\", \"ChannelIndex\"],\n",
    "                        outputCols=[\"OccupationVector\", \"ChannelVec\"])\n",
    "\n",
    "#квантизация\n",
    "discretizer = QuantileDiscretizer(numBuckets=5, inputCol=\"Age\", outputCol=\"Age_quant\")\n",
    "\n",
    "#собираем все в вектор\n",
    "feature_columns = [\n",
    "                   'Age',\n",
    "                   'Vintage',\n",
    "                   'Avg_Account_Balance',\n",
    "                   'GenderIndex',\n",
    "                   'OccupationVector',\n",
    "                   'ChannelVec',\n",
    "                   'Age_quant'                 \n",
    "]\n",
    "vector_assembler = VectorAssembler(inputCols = feature_columns, outputCol = 'features')\n",
    "\n",
    "lr = LogisticRegression(featuresCol='features', labelCol='Is_Lead', predictionCol='prediction',\n",
    "                        maxIter=100, probabilityCol='proba')"
   ]
  },
  {
   "cell_type": "code",
   "execution_count": null,
   "metadata": {
    "id": "Rn8cK_B4gKRd"
   },
   "outputs": [],
   "source": [
    "pipeline = Pipeline(stages=[\n",
    "                           gender_indexer,\n",
    "                           occupation_indexer,\n",
    "                           channel_indexer,\n",
    "                           ohe_encoder,\n",
    "                           discretizer,\n",
    "                           vector_assembler,\n",
    "                           lr\n",
    "])"
   ]
  },
  {
   "cell_type": "markdown",
   "metadata": {
    "id": "T9gENnbniGi4"
   },
   "source": [
    "Сетка параметров"
   ]
  },
  {
   "cell_type": "code",
   "execution_count": null,
   "metadata": {
    "id": "JC9hlYpFgtru"
   },
   "outputs": [],
   "source": [
    "paramGrid = ParamGridBuilder() \\\n",
    "    .addGrid(discretizer.numBuckets, [5, 10]) \\\n",
    "    .addGrid(lr.maxIter, [10, 20]) \\\n",
    "    .build()"
   ]
  },
  {
   "cell_type": "markdown",
   "metadata": {
    "id": "9pjHOyAbikU4"
   },
   "source": [
    "Разобьем данные на train, test"
   ]
  },
  {
   "cell_type": "code",
   "execution_count": null,
   "metadata": {
    "id": "9fLrqVlwim3-"
   },
   "outputs": [],
   "source": [
    "train, test = data.randomSplit([0.7, 0.3], seed=7)"
   ]
  },
  {
   "cell_type": "markdown",
   "metadata": {
    "id": "vUu8wO5cjEQO"
   },
   "source": [
    "Описываем стратегию кросс-валидации"
   ]
  },
  {
   "cell_type": "code",
   "execution_count": null,
   "metadata": {
    "id": "ppn-9HE1iNWN"
   },
   "outputs": [],
   "source": [
    "crossval = CrossValidator(estimator=pipeline,\n",
    "                          estimatorParamMaps=paramGrid,\n",
    "                          evaluator=BinaryClassificationEvaluator(rawPredictionCol='rawPrediction',\n",
    "                                                                  labelCol='Is_Lead', metricName='areaUnderROC'),\n",
    "                          numFolds=2,\n",
    "                          parallelism=2)"
   ]
  },
  {
   "cell_type": "markdown",
   "metadata": {
    "id": "UxsvDyaqkEvM"
   },
   "source": [
    "Гоняем сетку. Знаю, перебор по сетке прошлый век, но что поделать)"
   ]
  },
  {
   "cell_type": "code",
   "execution_count": null,
   "metadata": {
    "id": "eLZZWrBoigSx"
   },
   "outputs": [],
   "source": [
    "cvModel = crossval.fit(train)"
   ]
  },
  {
   "cell_type": "code",
   "execution_count": null,
   "metadata": {
    "colab": {
     "base_uri": "https://localhost:8080/"
    },
    "id": "n2rQLkQ4lqUY",
    "outputId": "fd9245d1-0971-4f0e-836d-a1d0ef5f7cc4"
   },
   "outputs": [],
   "source": [
    "cvModel.avgMetrics"
   ]
  },
  {
   "cell_type": "markdown",
   "metadata": {
    "id": "_KB9cRqbqRwu"
   },
   "source": [
    "Параметры"
   ]
  },
  {
   "cell_type": "code",
   "execution_count": null,
   "metadata": {
    "colab": {
     "base_uri": "https://localhost:8080/"
    },
    "id": "PfkNIaY2qThi",
    "outputId": "dd1cdee7-13f0-417d-996c-b2ebd72694c7"
   },
   "outputs": [],
   "source": [
    "import numpy as np\n",
    "print(cvModel.getEstimatorParamMaps()[np.argmax(cvModel.avgMetrics)])"
   ]
  },
  {
   "cell_type": "markdown",
   "metadata": {
    "id": "AOWVYH99qeFR"
   },
   "source": [
    "Сделаем предикт"
   ]
  },
  {
   "cell_type": "code",
   "execution_count": null,
   "metadata": {
    "id": "JbsJtmC3l1KN"
   },
   "outputs": [],
   "source": [
    "test_pred = cvModel.transform(test)"
   ]
  },
  {
   "cell_type": "code",
   "execution_count": null,
   "metadata": {
    "colab": {
     "base_uri": "https://localhost:8080/"
    },
    "id": "E-PfseCjm7Ih",
    "outputId": "63e6223d-3ced-4eaa-99bf-c69ba2b32acb"
   },
   "outputs": [],
   "source": [
    "test_pred.show()"
   ]
  },
  {
   "cell_type": "markdown",
   "metadata": {
    "id": "LA5pbziMoRDT"
   },
   "source": [
    "Проверим модель"
   ]
  },
  {
   "cell_type": "code",
   "execution_count": null,
   "metadata": {
    "id": "eO7WOldKoEqK"
   },
   "outputs": [],
   "source": [
    "evaluator = BinaryClassificationEvaluator(rawPredictionCol='rawPrediction',\n",
    "                                          labelCol='Is_Lead', metricName='areaUnderROC')"
   ]
  },
  {
   "cell_type": "code",
   "execution_count": null,
   "metadata": {
    "colab": {
     "base_uri": "https://localhost:8080/"
    },
    "id": "5bH_zffaoLJy",
    "outputId": "83cd9b52-9a0c-4074-bdde-d3f8389f36ca"
   },
   "outputs": [],
   "source": [
    "evaluator.evaluate(test_pred)"
   ]
  },
  {
   "cell_type": "markdown",
   "metadata": {
    "id": "KiOvzq7Sqi8d"
   },
   "source": [
    "Сохраним пайплайн"
   ]
  },
  {
   "cell_type": "code",
   "execution_count": null,
   "metadata": {
    "id": "DSYb-f_AqlFL"
   },
   "outputs": [],
   "source": [
    "cvModel.write().save('model')"
   ]
  },
  {
   "cell_type": "markdown",
   "metadata": {
    "id": "sv0etfqprdpj"
   },
   "source": [
    "вместо кросс-валидации можно взять TrainValidationSplit для подбора параметров, это train_test_split"
   ]
  },
  {
   "cell_type": "markdown",
   "metadata": {
    "id": "9aco7h88Jv3m"
   },
   "source": [
    "**Ваша любимая домашка**"
   ]
  },
  {
   "cell_type": "markdown",
   "metadata": {
    "id": "hzvvR75kJ4v8"
   },
   "source": [
    "Кто проходил курс GPU прекрасно знают датасет.\n",
    "Данные находятся в файле Train_Set_90621.csv\n",
    "Amount Defaulted - эту переменную нужно удалить=)\n",
    "\n",
    "Что ожидается? - творчество)\n",
    "\n",
    "    1) Начните с анализа баланса классов, пропусков, статистик при помощи DataFrame API\n",
    "    2) Посомтрите статистики, заполните пропуски при помощи уже MLlib\n",
    "    3) Соберите пайплайн, похожий на наш, где будет обработка данных, обучение моделей и все при помощи Spark\n",
    "    4) Разбейте данные на train/test + реализуйте подбор параметров одним из способов спарка\n",
    "    5) Cохраниет пайплайн на диск\n",
    "    6) Проверьте качество модели на отложенной test выборке\n",
    "\n",
    "\n"
   ]
  }
 ],
 "metadata": {
  "colab": {
   "collapsed_sections": [],
   "name": "PySpark_MLlib.ipynb",
   "provenance": []
  },
  "kernelspec": {
   "display_name": "Python 3",
   "language": "python",
   "name": "python3"
  },
  "language_info": {
   "codemirror_mode": {
    "name": "ipython",
    "version": 3
   },
   "file_extension": ".py",
   "mimetype": "text/x-python",
   "name": "python",
   "nbconvert_exporter": "python",
   "pygments_lexer": "ipython3",
   "version": "3.8.8"
  }
 },
 "nbformat": 4,
 "nbformat_minor": 1
}
