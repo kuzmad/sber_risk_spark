{
  "cells": [
    {
      "cell_type": "code",
      "execution_count": null,
      "metadata": {
        "colab": {
          "base_uri": "https://localhost:8080/"
        },
        "id": "YQvwElqGWoF1",
        "outputId": "c1ae7b7d-cea3-4b9e-838a-af0c55279344"
      },
      "outputs": [],
      "source": [
        "!pip install pyspark findspark nltk"
      ]
    },
    {
      "cell_type": "code",
      "execution_count": null,
      "metadata": {
        "colab": {
          "base_uri": "https://localhost:8080/"
        },
        "id": "vQJQt0g6e_Cj",
        "outputId": "3542b51d-5c9e-478e-b12f-917e88a4cf37"
      },
      "outputs": [],
      "source": [
        "import nltk\n",
        "nltk.download('punkt')\n",
        "nltk.download('stopwords')\n",
        "from nltk.corpus import stopwords\n",
        "import re \n",
        "import string"
      ]
    },
    {
      "cell_type": "code",
      "execution_count": null,
      "metadata": {
        "id": "hvkEEKu5e-Th"
      },
      "outputs": [],
      "source": [
        "from pyspark.sql import SparkSession\n",
        "from pyspark import SparkContext, SparkConf\n",
        "\n",
        "conf = SparkConf().set('spark.ui.port', '4050').set('spark.serializer', 'org.apache.spark.serializer.KryoSerializer')\\\n",
        "                  .set('spark.dynamicAllocation.enabled', 'true')\\\n",
        "                  .set('spark.shuffle.service.enabled', 'true') #трекер, чтобы возвращать ресурсы\n",
        "sc = SparkContext(conf=conf)\n",
        "spark = SparkSession.builder.master('local[*]').getOrCreate()"
      ]
    },
    {
      "cell_type": "code",
      "execution_count": null,
      "metadata": {
        "colab": {
          "base_uri": "https://localhost:8080/"
        },
        "id": "WBMfySw3fHQD",
        "outputId": "56bdd652-dcbb-46ec-a6e0-444ec11c039e"
      },
      "outputs": [],
      "source": [
        "!wget https://bin.equinox.io/c/4VmDzA7iaHb/ngrok-stable-linux-amd64.zip\n",
        "!unzip ngrok-stable-linux-amd64.zip"
      ]
    },
    {
      "cell_type": "code",
      "execution_count": null,
      "metadata": {
        "id": "QUxI2n3Lg1Px"
      },
      "outputs": [],
      "source": [
        "get_ipython().system_raw('./ngrok http 4050 &')"
      ]
    },
    {
      "cell_type": "code",
      "execution_count": null,
      "metadata": {
        "colab": {
          "base_uri": "https://localhost:8080/"
        },
        "id": "OCIslw3WiOrU",
        "outputId": "438a928c-44c8-4f54-f51f-64ff61843fbc"
      },
      "outputs": [],
      "source": [
        "!curl -s http://localhost:4040/api/tunnels | python3 -c \"import sys, json; print(json.load(sys.stdin)['tunnels'][0]['public_url'])\""
      ]
    },
    {
      "cell_type": "markdown",
      "metadata": {
        "id": "ysb-yADyseDE"
      },
      "source": [
        "Как проще всего создать RDD? Вызвать метод и передать ему нужный объект"
      ]
    },
    {
      "cell_type": "code",
      "execution_count": null,
      "metadata": {
        "id": "459H4QvujHKR"
      },
      "outputs": [],
      "source": [
        "first_rdd  = sc.parallelize(range(1000000))"
      ]
    },
    {
      "cell_type": "code",
      "execution_count": null,
      "metadata": {
        "colab": {
          "base_uri": "https://localhost:8080/"
        },
        "id": "CRhiwucq51Sl",
        "outputId": "d92ed704-1df9-484c-eb99-13dd01379fcc"
      },
      "outputs": [],
      "source": [
        "first_rdd.getNumPartitions()"
      ]
    },
    {
      "cell_type": "markdown",
      "metadata": {
        "id": "cmi41EwXy1gI"
      },
      "source": [
        "А можно ли менять количество партиций? Да, для этого есть два метода: repartition() и coalesce(). Первый используется для увеличения и уменьшения количества партиций, второй только для снижения, прчем coalesce будет работать эффективнее. Много партиций - дольше будет считаться, но если данных много, то обязательно нужно"
      ]
    },
    {
      "cell_type": "markdown",
      "metadata": {
        "id": "ajdioFzEsgZB"
      },
      "source": [
        "repartition()` всегда приводит к равномерному перераспределению данных, что ведет к shuffle. Если Вы уменьшаете число партиций, то стоит использовать `coalesce()`, который может избежать shuffle"
      ]
    },
    {
      "cell_type": "code",
      "execution_count": null,
      "metadata": {
        "colab": {
          "base_uri": "https://localhost:8080/"
        },
        "id": "rTL0MygY593s",
        "outputId": "ee5e7155-f505-41c1-afd6-d8b8cc3b5342"
      },
      "outputs": [],
      "source": [
        "first_rdd = first_rdd.repartition(5)\n",
        "print(first_rdd.getNumPartitions())"
      ]
    },
    {
      "cell_type": "code",
      "execution_count": null,
      "metadata": {
        "colab": {
          "base_uri": "https://localhost:8080/"
        },
        "id": "S72uRYdGtz6i",
        "outputId": "9bfc01b3-c05a-4e44-e4fa-fcb00f1888ae"
      },
      "outputs": [],
      "source": [
        "first_rdd = first_rdd.repartition(2)\n",
        "print(first_rdd.getNumPartitions())"
      ]
    },
    {
      "cell_type": "code",
      "execution_count": null,
      "metadata": {
        "colab": {
          "base_uri": "https://localhost:8080/"
        },
        "id": "6k45ZdHFt1uU",
        "outputId": "b0e0467a-fcc2-4d59-83d5-b47611660c52"
      },
      "outputs": [],
      "source": [
        "first_rdd = first_rdd.coalesce(1)\n",
        "print(first_rdd.getNumPartitions())"
      ]
    },
    {
      "cell_type": "code",
      "execution_count": null,
      "metadata": {
        "colab": {
          "base_uri": "https://localhost:8080/"
        },
        "id": "VOjksB0guT4k",
        "outputId": "a17d11ae-f036-4451-e732-64f300c9e556"
      },
      "outputs": [],
      "source": [
        "a = %time first_rdd.sum()"
      ]
    },
    {
      "cell_type": "markdown",
      "metadata": {
        "id": "i63A8-0uuDJ2"
      },
      "source": [
        "Посмотрим на время выполнения для разного числа партиций"
      ]
    },
    {
      "cell_type": "code",
      "execution_count": null,
      "metadata": {
        "colab": {
          "base_uri": "https://localhost:8080/"
        },
        "id": "Os4QBpNTuBvk",
        "outputId": "7dc33a22-8bf5-4c05-ce80-a3be64d0a6a9"
      },
      "outputs": [],
      "source": [
        "result = []\n",
        "first_rdd  = sc.parallelize(range(5000000))\n",
        "for partition in range(1, 30):\n",
        "    first_rdd = first_rdd.repartition(partition)\n",
        "    time = %timeit -o  -n 1 -r 1 first_rdd.sum()\n",
        "    time = time.best\n",
        "    result.append((partition, time))"
      ]
    },
    {
      "cell_type": "code",
      "execution_count": null,
      "metadata": {
        "id": "tICS1hZBxAYT"
      },
      "outputs": [],
      "source": [
        "import matplotlib.pyplot as plt\n",
        "import os\n",
        "%matplotlib inline"
      ]
    },
    {
      "cell_type": "code",
      "execution_count": null,
      "metadata": {
        "colab": {
          "base_uri": "https://localhost:8080/",
          "height": 286
        },
        "id": "aMfCB5CLxFWP",
        "outputId": "ea7ea587-ee57-435c-c8d3-2b442e64e41f"
      },
      "outputs": [],
      "source": [
        "plt.plot([res[1] for res in result])"
      ]
    },
    {
      "cell_type": "markdown",
      "metadata": {
        "id": "KKB8WZZ3z1if"
      },
      "source": [
        "А почему лучший результат при небольшом количестве партиций?"
      ]
    },
    {
      "cell_type": "code",
      "execution_count": null,
      "metadata": {
        "colab": {
          "base_uri": "https://localhost:8080/"
        },
        "id": "kuiJd2Oqz0yY",
        "outputId": "0d5b880b-1b01-4f16-ccdc-7501014579eb"
      },
      "outputs": [],
      "source": [
        "import multiprocessing\n",
        "\n",
        "multiprocessing.cpu_count()"
      ]
    },
    {
      "cell_type": "markdown",
      "metadata": {
        "id": "2s8tP7e-y_ib"
      },
      "source": [
        "Из list также можно создавать RDD"
      ]
    },
    {
      "cell_type": "code",
      "execution_count": null,
      "metadata": {
        "id": "Xo5auCMsy7aH"
      },
      "outputs": [],
      "source": [
        "bad_list = [1, 2, 3, 'a', 10, 'b']"
      ]
    },
    {
      "cell_type": "code",
      "execution_count": null,
      "metadata": {
        "id": "VCpu1vIWzHYT"
      },
      "outputs": [],
      "source": [
        "bad_list_rdd = sc.parallelize(bad_list)"
      ]
    },
    {
      "cell_type": "code",
      "execution_count": null,
      "metadata": {
        "colab": {
          "base_uri": "https://localhost:8080/"
        },
        "id": "gFHIC38GzbAT",
        "outputId": "166131b6-0964-4944-e778-cf6794ce1b63"
      },
      "outputs": [],
      "source": [
        "bad_list_rdd.collect()"
      ]
    },
    {
      "cell_type": "markdown",
      "metadata": {
        "id": "6gQxsxLd0UTH"
      },
      "source": [
        "Еще можно создать RDD через textFile и wholeTextFiles"
      ]
    },
    {
      "cell_type": "code",
      "execution_count": null,
      "metadata": {
        "id": "0l5oE92a1q2z"
      },
      "outputs": [],
      "source": [
        "text_rdd = sc.textFile('spark_text.txt')"
      ]
    },
    {
      "cell_type": "code",
      "execution_count": null,
      "metadata": {
        "colab": {
          "base_uri": "https://localhost:8080/"
        },
        "id": "2FKzdhuh10Z2",
        "outputId": "0ca8c1e4-d59d-47fa-cac7-897d751d3258"
      },
      "outputs": [],
      "source": [
        "text_rdd.take(1)"
      ]
    },
    {
      "cell_type": "markdown",
      "metadata": {
        "id": "065n4emo2Kuf"
      },
      "source": [
        "wholeTextFiles создает PairRDD в формате key-value, где ключ - имя файла, а значения - то, что находистя в файле. Имена файлов считываются из папки через wholeTextFiles"
      ]
    },
    {
      "cell_type": "code",
      "execution_count": null,
      "metadata": {
        "id": "cTGV-Tk42nNT"
      },
      "outputs": [],
      "source": [
        "dirPath = 'files'\n",
        "os.mkdir(dirPath)\n",
        "with open(os.path.join(dirPath, \"1.txt\"), \"w\") as file1:\n",
        "    _ = file1.write(\"[1 2 3]\")\n",
        "with open(os.path.join(dirPath, \"2.txt\"), \"w\") as file2:\n",
        "    _ = file2.write(\"[4 5 6]\")\n",
        "textFiles = sc.wholeTextFiles(dirPath)"
      ]
    },
    {
      "cell_type": "code",
      "execution_count": null,
      "metadata": {
        "colab": {
          "base_uri": "https://localhost:8080/"
        },
        "id": "2odeXS186wbv",
        "outputId": "14d3e451-f6f9-4d45-937e-9c153e66a227"
      },
      "outputs": [],
      "source": [
        "textFiles"
      ]
    },
    {
      "cell_type": "code",
      "execution_count": null,
      "metadata": {
        "colab": {
          "base_uri": "https://localhost:8080/"
        },
        "id": "Q49V_P0M6fV-",
        "outputId": "165613d0-8877-4b80-ca0c-cffa6f51c611"
      },
      "outputs": [],
      "source": [
        "textFiles.collect()"
      ]
    },
    {
      "cell_type": "markdown",
      "metadata": {
        "id": "AUEQ7fTh7KIg"
      },
      "source": [
        "У RDD есть стандартно 2 типа методов - actions и transformations"
      ]
    },
    {
      "cell_type": "markdown",
      "metadata": {
        "id": "S9xpZ-Ns7b-b"
      },
      "source": [
        "**Actions**\n",
        "\n",
        "Начнем с actions, то есть того, что заставит посчитать"
      ]
    },
    {
      "cell_type": "code",
      "execution_count": null,
      "metadata": {
        "id": "xn4EpCXJ7WWo"
      },
      "outputs": [],
      "source": [
        "first_rdd = first_rdd.coalesce(2)"
      ]
    },
    {
      "cell_type": "code",
      "execution_count": null,
      "metadata": {
        "colab": {
          "base_uri": "https://localhost:8080/"
        },
        "id": "TMUv2tyh7ob4",
        "outputId": "ff7ec423-1800-4d3f-a7bd-399cfe9b7d12"
      },
      "outputs": [],
      "source": [
        "first_rdd.sum()"
      ]
    },
    {
      "cell_type": "code",
      "execution_count": null,
      "metadata": {
        "colab": {
          "base_uri": "https://localhost:8080/"
        },
        "id": "DUDdK1co7qQc",
        "outputId": "2654ca45-0b03-49ff-89ef-f4689e51517e"
      },
      "outputs": [],
      "source": [
        "first_rdd.min(), first_rdd.max()"
      ]
    },
    {
      "cell_type": "code",
      "execution_count": null,
      "metadata": {
        "colab": {
          "base_uri": "https://localhost:8080/"
        },
        "id": "gKijZqmp8uir",
        "outputId": "7ff2c91d-5fd2-4606-adae-1394ae27d6ce"
      },
      "outputs": [],
      "source": [
        "first_rdd.first()"
      ]
    },
    {
      "cell_type": "code",
      "execution_count": null,
      "metadata": {
        "colab": {
          "base_uri": "https://localhost:8080/"
        },
        "id": "xUnqk-QI7wqE",
        "outputId": "820bd6f6-7dc0-43dc-c64c-deecef7451b0"
      },
      "outputs": [],
      "source": [
        "first_rdd.take(2)"
      ]
    },
    {
      "cell_type": "code",
      "execution_count": null,
      "metadata": {
        "colab": {
          "base_uri": "https://localhost:8080/"
        },
        "id": "aUZk1eg87zky",
        "outputId": "a2226c80-b2c9-4560-8047-cee8049cb4f9"
      },
      "outputs": [],
      "source": [
        "first_rdd.count()"
      ]
    },
    {
      "cell_type": "code",
      "execution_count": null,
      "metadata": {
        "id": "CMCFnJjG76Q-"
      },
      "outputs": [],
      "source": [
        "a = first_rdd.collect()"
      ]
    },
    {
      "cell_type": "code",
      "execution_count": null,
      "metadata": {
        "id": "oh1IT2cP8BPj"
      },
      "outputs": [],
      "source": [
        "first_rdd.saveAsTextFile, first_rdd.saveAsPickleFile"
      ]
    },
    {
      "cell_type": "code",
      "execution_count": null,
      "metadata": {
        "colab": {
          "base_uri": "https://localhost:8080/"
        },
        "id": "TFXlzHqA8T1M",
        "outputId": "aefc6d4a-c72c-4343-a534-a80a8065c6db"
      },
      "outputs": [],
      "source": [
        "first_rdd.reduce(lambda x, y: x + y)"
      ]
    },
    {
      "cell_type": "markdown",
      "metadata": {
        "id": "Ev48GQfDqnrS"
      },
      "source": [
        "Если нужно получить небольшое число записей на драйвер и, при этом, сохранить распределение, то лучше сделать выборку"
      ]
    },
    {
      "cell_type": "code",
      "execution_count": null,
      "metadata": {
        "colab": {
          "base_uri": "https://localhost:8080/"
        },
        "id": "pDHNH3H19Pib",
        "outputId": "59043f4e-59dc-4f03-a95c-8253201723ba"
      },
      "outputs": [],
      "source": [
        "first_rdd.takeSample(withReplacement=False, num=5, seed=5757)"
      ]
    },
    {
      "cell_type": "markdown",
      "metadata": {
        "id": "Aiad4-a8ejvL"
      },
      "source": [
        "**Transformations**\n",
        "\n",
        "Это просто трансформации, которые не будут вычисляться до вызова actions"
      ]
    },
    {
      "cell_type": "code",
      "execution_count": null,
      "metadata": {
        "id": "BMpdFk3W9P-E"
      },
      "outputs": [],
      "source": [
        "a = sc.parallelize([1, 2, 3])\n",
        "b = sc.parallelize([2, 3, 4])"
      ]
    },
    {
      "cell_type": "code",
      "execution_count": null,
      "metadata": {
        "id": "SmJMLmCO9Xi2"
      },
      "outputs": [],
      "source": [
        "c = a + b"
      ]
    },
    {
      "cell_type": "code",
      "execution_count": null,
      "metadata": {
        "colab": {
          "base_uri": "https://localhost:8080/"
        },
        "id": "X196_-ZQ9arZ",
        "outputId": "ff353c4a-550f-4f9a-f42d-9c2356691713"
      },
      "outputs": [],
      "source": [
        "c.collect()"
      ]
    },
    {
      "cell_type": "markdown",
      "metadata": {
        "id": "tQNtnHNtfzEC"
      },
      "source": [
        "filter"
      ]
    },
    {
      "cell_type": "code",
      "execution_count": null,
      "metadata": {
        "colab": {
          "base_uri": "https://localhost:8080/"
        },
        "id": "M7qMFVREfxv8",
        "outputId": "0e24857d-103d-4580-f173-19117e8d84a3"
      },
      "outputs": [],
      "source": [
        "text_rdd.count()"
      ]
    },
    {
      "cell_type": "code",
      "execution_count": null,
      "metadata": {
        "colab": {
          "base_uri": "https://localhost:8080/"
        },
        "id": "3wiJ08Frf-Jz",
        "outputId": "3aeea0a3-c471-4b64-f6a3-2479b1e6bf81"
      },
      "outputs": [],
      "source": [
        "text_rdd.filter(lambda x: x != '').count()"
      ]
    },
    {
      "cell_type": "code",
      "execution_count": null,
      "metadata": {
        "id": "wYQT0S4ugRRp"
      },
      "outputs": [],
      "source": [
        "text_rdd = text_rdd.filter(lambda x: x != '')"
      ]
    },
    {
      "cell_type": "markdown",
      "metadata": {
        "id": "E41esva9ex2j"
      },
      "source": [
        "map"
      ]
    },
    {
      "cell_type": "code",
      "execution_count": null,
      "metadata": {
        "id": "JQ5yWa7yfUVv"
      },
      "outputs": [],
      "source": [
        "stop_words = stopwords.words(\"english\")\n",
        "stop_words = set(stop_words)"
      ]
    },
    {
      "cell_type": "code",
      "execution_count": null,
      "metadata": {
        "id": "gny7-CMYgkQQ"
      },
      "outputs": [],
      "source": [
        "def mapper_text(text):\n",
        "    clean_text = re.sub(rf\"[{string.punctuation}]\", \"\", text)\n",
        "    words = nltk.word_tokenize(clean_text)\n",
        "    words_with_value = [(word.lower(), 1) for word in words \n",
        "                        if word not in stop_words]\n",
        "    return words_with_value"
      ]
    },
    {
      "cell_type": "code",
      "execution_count": null,
      "metadata": {
        "colab": {
          "base_uri": "https://localhost:8080/"
        },
        "id": "-C7K6V3Sgw4-",
        "outputId": "6f0d584a-a9f3-4139-97fd-c0b1aab23651"
      },
      "outputs": [],
      "source": [
        "text_rdd.map(mapper_text).take(1)"
      ]
    },
    {
      "cell_type": "markdown",
      "metadata": {
        "id": "bw6eE6BnhC4G"
      },
      "source": [
        "flatMap"
      ]
    },
    {
      "cell_type": "markdown",
      "metadata": {
        "id": "eTUOQWrZhS89"
      },
      "source": [
        "Попробуем применить map и flatMap"
      ]
    },
    {
      "cell_type": "code",
      "execution_count": null,
      "metadata": {
        "colab": {
          "base_uri": "https://localhost:8080/"
        },
        "id": "7Zi_fYGfhEza",
        "outputId": "6c4e3f43-8cc4-4a9a-acf3-47a620dcb2c6"
      },
      "outputs": [],
      "source": [
        "text_rdd.map(mapper_text).count()"
      ]
    },
    {
      "cell_type": "code",
      "execution_count": null,
      "metadata": {
        "colab": {
          "base_uri": "https://localhost:8080/"
        },
        "id": "XUp5kQAnhMsW",
        "outputId": "abb18450-17f4-4b05-d17f-b581bc4460ad"
      },
      "outputs": [],
      "source": [
        "text_rdd.flatMap(mapper_text).count()"
      ]
    },
    {
      "cell_type": "markdown",
      "metadata": {
        "id": "tWVR-ueohXQ-"
      },
      "source": [
        "Как так?"
      ]
    },
    {
      "cell_type": "code",
      "execution_count": null,
      "metadata": {
        "colab": {
          "base_uri": "https://localhost:8080/"
        },
        "id": "jKf-8WfLhscS",
        "outputId": "e4fc06fb-729d-46f6-de6f-ae9d52686521"
      },
      "outputs": [],
      "source": [
        "text_rdd.map(mapper_text).map(len).sum()"
      ]
    },
    {
      "cell_type": "markdown",
      "metadata": {
        "id": "tm1g9-0EiN2x"
      },
      "source": [
        "вроде понятно что случилось, но давайте на игрушечном примере"
      ]
    },
    {
      "cell_type": "code",
      "execution_count": null,
      "metadata": {
        "id": "ZwUcamJHiNJa"
      },
      "outputs": [],
      "source": [
        "simple_example = sc.parallelize([[1, 2, 3], [2, 3, 4], [4, 5, 6]])"
      ]
    },
    {
      "cell_type": "code",
      "execution_count": null,
      "metadata": {
        "id": "4e95UYZri0P1"
      },
      "outputs": [],
      "source": [
        "def pow_elements(elements):\n",
        "    return [x**2 for x in elements]"
      ]
    },
    {
      "cell_type": "code",
      "execution_count": null,
      "metadata": {
        "colab": {
          "base_uri": "https://localhost:8080/"
        },
        "id": "oRuQNwphilD7",
        "outputId": "57794526-f65c-4554-ed40-1fb1bd8952ba"
      },
      "outputs": [],
      "source": [
        "simple_example.map(pow_elements).collect()"
      ]
    },
    {
      "cell_type": "code",
      "execution_count": null,
      "metadata": {
        "colab": {
          "base_uri": "https://localhost:8080/"
        },
        "id": "9JQ0zRRmjC6Y",
        "outputId": "d95f75d1-70b3-4447-ec63-3a5a7626cc65"
      },
      "outputs": [],
      "source": [
        "simple_example.flatMap(pow_elements).collect()"
      ]
    },
    {
      "cell_type": "markdown",
      "metadata": {
        "id": "GYbF8PgtkA5U"
      },
      "source": [
        "groupByKey"
      ]
    },
    {
      "cell_type": "code",
      "execution_count": null,
      "metadata": {
        "id": "NbY1SU54j_Ln"
      },
      "outputs": [],
      "source": [
        "text_rdd = text_rdd.flatMap(mapper_text)"
      ]
    },
    {
      "cell_type": "code",
      "execution_count": null,
      "metadata": {
        "colab": {
          "base_uri": "https://localhost:8080/"
        },
        "id": "OSAVshc5jVlO",
        "outputId": "bc038fbf-81bc-4996-d644-6fd2d1fc78c0"
      },
      "outputs": [],
      "source": [
        "text_rdd.groupByKey().mapValues(len).collect()"
      ]
    },
    {
      "cell_type": "markdown",
      "metadata": {
        "id": "NGHXTxQElEki"
      },
      "source": [
        "sortByKey"
      ]
    },
    {
      "cell_type": "code",
      "execution_count": null,
      "metadata": {
        "colab": {
          "base_uri": "https://localhost:8080/"
        },
        "id": "ZS4CyLFVlGWe",
        "outputId": "36725869-d6b2-4b51-dced-6807a0dad57c"
      },
      "outputs": [],
      "source": [
        "text_rdd.groupByKey().mapValues(len).sortByKey().collect()"
      ]
    },
    {
      "cell_type": "markdown",
      "metadata": {
        "id": "XfqBo3xRlYbA"
      },
      "source": [
        "И так на самом деле много методов, но предалагаю написать подсчет частоты слов и сделаем это в стиле программ на java"
      ]
    },
    {
      "cell_type": "code",
      "execution_count": null,
      "metadata": {
        "id": "SpcSn6-hllUm"
      },
      "outputs": [],
      "source": [
        "text_rdd = sc.textFile('spark_text.txt')"
      ]
    },
    {
      "cell_type": "code",
      "execution_count": null,
      "metadata": {
        "id": "PNKk3doilxe3"
      },
      "outputs": [],
      "source": [
        "result = text_rdd.filter(lambda x: x != '')\\\n",
        "                 .flatMap(mapper_text)\\\n",
        "                 .groupByKey()\\\n",
        "                 .mapValues(len)\\\n",
        "                 .sortBy(lambda x: x[1], ascending=False)\\\n",
        "                 .collect()"
      ]
    },
    {
      "cell_type": "code",
      "execution_count": null,
      "metadata": {
        "colab": {
          "base_uri": "https://localhost:8080/"
        },
        "id": "j1tJ2dCcmh8z",
        "outputId": "41dd55a9-97ba-4257-df71-8f8060145a89"
      },
      "outputs": [],
      "source": [
        "result[:10]"
      ]
    },
    {
      "cell_type": "markdown",
      "metadata": {
        "id": "MDSTE1oloeOq"
      },
      "source": [
        "Забыли про reduceByKey"
      ]
    },
    {
      "cell_type": "code",
      "execution_count": null,
      "metadata": {
        "colab": {
          "base_uri": "https://localhost:8080/"
        },
        "id": "gpv46Uxiobm8",
        "outputId": "d70985ba-79ed-4328-be5e-ba56069d1a79"
      },
      "outputs": [],
      "source": [
        "text_rdd.filter(lambda x: x != '')\\\n",
        "        .flatMap(mapper_text)\\\n",
        "        .reduceByKey(lambda x, y: x + y)\\\n",
        "        .sortBy(lambda x: x[1], ascending=False)\\\n",
        "        .collect()[:10]"
      ]
    },
    {
      "cell_type": "markdown",
      "metadata": {
        "id": "-PxSwc7QrVk7"
      },
      "source": [
        "Стоит заметить, что `groupByKey()` предполагает перемещение всех записей с одним ключом на один экзекьютор. В случае очень скошенных распределений это может привести к падению экзекьютора с OOM. Поэтому всегда при группировках стоит подумать об использовании `reduceByKey()`."
      ]
    },
    {
      "cell_type": "markdown",
      "metadata": {
        "id": "hlu6iY8qGYlw"
      },
      "source": [
        "Так, на лекции было что-то про count, который не делает shuffle да и вообще можно проще написать?"
      ]
    },
    {
      "cell_type": "code",
      "execution_count": null,
      "metadata": {
        "id": "L-esll2IFI3M"
      },
      "outputs": [],
      "source": [
        "def mapper_text_simple(text):\n",
        "    clean_text = re.sub(rf\"[{string.punctuation}]\", \"\", text)\n",
        "    words = nltk.word_tokenize(clean_text)\n",
        "    words = [word.lower() for word in words \n",
        "                        if word not in stop_words]\n",
        "    return words"
      ]
    },
    {
      "cell_type": "code",
      "execution_count": null,
      "metadata": {
        "colab": {
          "base_uri": "https://localhost:8080/"
        },
        "id": "9gs_zfIJsT3f",
        "outputId": "ee10c8f9-1708-482b-a4b9-837a81978258"
      },
      "outputs": [],
      "source": [
        "result = text_rdd.filter(lambda x: x != '')\\\n",
        "                 .flatMap(mapper_text_simple)\\\n",
        "                 .countByValue()\n",
        "result = sorted(result.items(), key=lambda x: x[1], reverse=True)\n",
        "print(result[:10])"
      ]
    },
    {
      "cell_type": "markdown",
      "metadata": {
        "id": "iNLF_SEaG_Mr"
      },
      "source": [
        "**Join'ы**"
      ]
    },
    {
      "cell_type": "markdown",
      "metadata": {
        "id": "At9Da6ZlHIcs"
      },
      "source": [
        "Тут просто на игрушечном примере пощупаем данную операцию"
      ]
    },
    {
      "cell_type": "code",
      "execution_count": null,
      "metadata": {
        "id": "-HQ4wqICHPNK"
      },
      "outputs": [],
      "source": [
        "rdd_a = sc.parallelize([\n",
        "                        ('a', [1, 2]),\n",
        "                        ('b', [2, 4])])\n",
        "\n",
        "rdd_b = sc.parallelize([\n",
        "                        ('a', [10]),\n",
        "                        ('c', [11])])"
      ]
    },
    {
      "cell_type": "code",
      "execution_count": null,
      "metadata": {
        "colab": {
          "base_uri": "https://localhost:8080/"
        },
        "id": "FOCGK6dVHqCG",
        "outputId": "78ddd5ed-1745-445a-e57b-6c413bd74fd7"
      },
      "outputs": [],
      "source": [
        "rdd_a.join(rdd_b).collect()"
      ]
    },
    {
      "cell_type": "code",
      "execution_count": null,
      "metadata": {
        "colab": {
          "base_uri": "https://localhost:8080/"
        },
        "id": "EmnzobldH68k",
        "outputId": "21d598fb-68f3-4f56-9bc0-8b432bd4a828"
      },
      "outputs": [],
      "source": [
        "rdd_a.leftOuterJoin(rdd_b).collect()"
      ]
    },
    {
      "cell_type": "code",
      "execution_count": null,
      "metadata": {
        "colab": {
          "base_uri": "https://localhost:8080/"
        },
        "id": "nS-DcoMEH-Mq",
        "outputId": "4c75e3b5-f0b9-4712-bddc-e2219ca76a99"
      },
      "outputs": [],
      "source": [
        "rdd_a.fullOuterJoin(rdd_b).collect()"
      ]
    },
    {
      "cell_type": "markdown",
      "metadata": {
        "id": "7_cvDn0sI6lS"
      },
      "source": [
        "**Домашнее задание 1**\n",
        "\n",
        "Посчитать количество рейтингов больше 4 для каждого фильма и вывести фильмы в порядке убывания количества этих оценок (можно вывести топ 10)\n",
        "\n",
        "Файл можете взять из прошлого домашнего задания + сохраните результат на диск"
      ]
    },
    {
      "cell_type": "markdown",
      "metadata": {
        "id": "3BpNsZDmJQm2"
      },
      "source": [
        "**Домашнее задание 2**\n",
        "\n",
        "В этом задании у вас есть файл с обученным word2vec на произведении Достоевского Преступление и наказание. Файл - list, каждый элемент которого слово и его вектор в формате ('word', [vector]). Необходимо для каждого слова собрать список его top 10 похожих слов по косинусной метрике\n",
        "Результат также сохраните на диск и выведите синонимы для слова 'топор' и 'деньга'.\n",
        "Файл в пикле, так что для считывания воспользуйтесь не spark, можете взять любимый pandas\n",
        "\n",
        "Файл не очень уж и маленький, рекомендую сначала написать код на кошках/собачках, а потом уже на всем, так как ядра 2, считаться будет очень долго.\n",
        "В качестве одного из вариантов можете рассмотреть метод cartesian"
      ]
    }
  ],
  "metadata": {
    "colab": {
      "collapsed_sections": [],
      "name": "PySpark_RDD.ipynb",
      "provenance": []
    },
    "kernelspec": {
      "display_name": "Python 3",
      "name": "python3"
    },
    "language_info": {
      "name": "python"
    }
  },
  "nbformat": 4,
  "nbformat_minor": 0
}
